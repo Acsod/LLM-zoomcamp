{
 "cells": [
  {
   "cell_type": "code",
   "execution_count": 5,
   "id": "c37b7f1a-fac2-44f3-9f5a-2537c3c6a221",
   "metadata": {},
   "outputs": [],
   "source": [
    "import os\n",
    "from openai import OpenAI"
   ]
  },
  {
   "cell_type": "code",
   "execution_count": 14,
   "id": "2445a0d1-99f8-431b-a7f0-500d90559767",
   "metadata": {},
   "outputs": [],
   "source": [
    "client = OpenAI(base_url=\"https://api.proxyapi.ru/openai/v1\",\n",
    "                api_key=os.environ['KEY'])"
   ]
  },
  {
   "cell_type": "code",
   "execution_count": null,
   "id": "d3db53e5-1465-4372-89ab-766eb3c66390",
   "metadata": {},
   "outputs": [],
   "source": [
    "resp = client.chat.completions.create(\n",
    "    model='gpt-4o-mini',\n",
    "    max_completion_tokens=5,\n",
    "    messages=[{'role': 'user', 'content': 'как приготовить лосося?'}]\n",
    ")\n",
    "resp.choices[0].messege.content"
   ]
  },
  {
   "cell_type": "code",
   "execution_count": null,
   "id": "c220b118-3e16-403b-a85b-1c7db03b78cd",
   "metadata": {},
   "outputs": [],
   "source": []
  }
 ],
 "metadata": {
  "kernelspec": {
   "display_name": "Python 3 (ipykernel)",
   "language": "python",
   "name": "python3"
  },
  "language_info": {
   "codemirror_mode": {
    "name": "ipython",
    "version": 3
   },
   "file_extension": ".py",
   "mimetype": "text/x-python",
   "name": "python",
   "nbconvert_exporter": "python",
   "pygments_lexer": "ipython3",
   "version": "3.12.1"
  }
 },
 "nbformat": 4,
 "nbformat_minor": 5
}
